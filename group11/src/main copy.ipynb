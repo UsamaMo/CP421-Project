{
 "cells": [
  {
   "cell_type": "code",
   "execution_count": 56,
   "metadata": {},
   "outputs": [],
   "source": [
    "#This Entire Notebook will be used for all the code so make sure you have all the packages installed otherwise you wont be able to run this notebook"
   ]
  },
  {
   "cell_type": "code",
   "execution_count": 57,
   "metadata": {},
   "outputs": [],
   "source": [
    "#Import all the libraries\n",
    "import pandas as pd\n",
    "import numpy as np\n",
    "from sklearn.metrics import mean_squared_error\n",
    "from sklearn.metrics.pairwise import cosine_similarity\n",
    "from sklearn.decomposition import TruncatedSVD  \n",
    "from sklearn.model_selection import train_test_split\n",
    "from difflib import SequenceMatcher"
   ]
  },
  {
   "cell_type": "code",
   "execution_count": 58,
   "metadata": {},
   "outputs": [],
   "source": [
    "# Load the datasets\n",
    "books_path = '../Dataset/Books.csv'\n",
    "ratings_path = '../Dataset/Ratings.csv'\n",
    "users_path = '../Dataset/Users.csv'\n",
    "\n",
    "# Reading the files\n",
    "books = pd.read_csv(books_path, dtype={'Year-Of-Publication': object})\n",
    "ratings = pd.read_csv(ratings_path)\n",
    "users = pd.read_csv(users_path)\n"
   ]
  },
  {
   "cell_type": "code",
   "execution_count": 59,
   "metadata": {},
   "outputs": [],
   "source": [
    "# Preprocessing steps (as described earlier)\n",
    "\n",
    "# Preprocessing Books DataFrame\n",
    "books['Year-Of-Publication'] = pd.to_numeric(books['Year-Of-Publication'], errors='coerce').fillna(0).astype(int)\n",
    "books.drop(['Image-URL-S', 'Image-URL-M', 'Image-URL-L'], axis=1, inplace=True)\n",
    "\n",
    "# Preprocessing Ratings DataFrame\n",
    "ratings['Book-Rating'] = pd.to_numeric(ratings['Book-Rating'], errors='coerce')\n",
    "\n",
    "# Preprocessing Users DataFrame\n",
    "users['Age'] = pd.to_numeric(users['Age'], errors='coerce').fillna(users['Age'].median())\n",
    "users['Age'] = users['Age']\n",
    "users['Age'] = users['Age'].clip(lower=10, upper=100).astype(int)"
   ]
  },
  {
   "cell_type": "code",
   "execution_count": 60,
   "metadata": {},
   "outputs": [],
   "source": [
    "# Deduplicate ratings\n",
    "deduped_ratings = ratings.drop_duplicates(['User-ID', 'ISBN']) \n",
    "\n",
    "# Train/test split\n",
    "train, test = train_test_split(deduped_ratings, test_size=0.2, random_state=42) \n",
    "\n",
    "# Evaluation metric\n",
    "def rmse(actual, predicted):\n",
    "    mse = mean_squared_error(actual, predicted)\n",
    "    return np.sqrt(mse)"
   ]
  },
  {
   "cell_type": "code",
   "execution_count": 61,
   "metadata": {},
   "outputs": [],
   "source": [
    "# Pivot ratings matrix \n",
    "def pivot_ratings(ratings):\n",
    "    return ratings.pivot(index='User-ID', columns='ISBN', values='Rating').fillna(0)\n"
   ]
  },
  {
   "cell_type": "code",
   "execution_count": 62,
   "metadata": {},
   "outputs": [],
   "source": [
    "# Similarity function \n",
    "def book_similarity(title1, title2):\n",
    "    return SequenceMatcher(None, title1, title2).ratio() \n"
   ]
  },
  {
   "cell_type": "code",
   "execution_count": 63,
   "metadata": {},
   "outputs": [],
   "source": [
    "# Pivot ratings matrix \n",
    "def pivot_ratings(ratings):\n",
    "    return ratings.pivot(index='User-ID', columns='ISBN', values='Rating').fillna(0)\n"
   ]
  },
  {
   "cell_type": "code",
   "execution_count": 64,
   "metadata": {},
   "outputs": [],
   "source": [
    "def content_based_recommendations(user_preferences, books, n_recs=5):\n",
    "    \n",
    "    # Filter books by favorite authors \n",
    "    favorite_authors = user_preferences.get('favorite_authors', [])\n",
    "    auth_books = books[books['Book-Author'].isin(favorite_authors)]\n",
    "    \n",
    "    # Filter books similar to user's favorite books\n",
    "    favorite_books = user_preferences.get('favorite_books', [])\n",
    "    similar_books = []\n",
    "    for book in favorite_books:\n",
    "        similarities = books.apply(lambda x: book_similarity(x['Book-Title'], book), axis=1)\n",
    "        similar_book = books.loc[similarities.idxmax()] \n",
    "        similar_books.append(similar_book)\n",
    "        \n",
    "    # Combine the filtered data frames and return top books\n",
    "    recs = pd.concat([auth_books, pd.DataFrame(similar_books)], ignore_index=True) \n",
    "    return recs[:n_recs]"
   ]
  },
  {
   "cell_type": "code",
   "execution_count": 65,
   "metadata": {},
   "outputs": [],
   "source": [
    "def collab_recommendations(user_id, ratings, books, n_recs=5):\n",
    "\n",
    "    # Compute cosine similarity between users \n",
    "    user_ratings = ratings[ratings['User-ID'] == user_id]\n",
    "    other_ratings = ratings[ratings['User-ID'] != user_id]\n",
    "    user_book_matrix = pivot_ratings(user_ratings)\n",
    "    other_book_matrix = pivot_ratings(other_ratings)\n",
    "    similarities = cosine_similarity(user_book_matrix, other_book_matrix)\n",
    "    \n",
    "    # Find most similar users\n",
    "    similar_users = np.argsort(similarities)[-1:-6:-1]  \n",
    "    \n",
    "    # Get top book recommendations from similar users\n",
    "    top_books = {}\n",
    "    for user in similar_users:\n",
    "        other_user_books = other_book_matrix.iloc[user] \n",
    "        for i, rating in other_user_books.iteritems():\n",
    "            if i not in user_book_matrix.columns:\n",
    "                if i not in top_books or top_books[i] < rating:\n",
    "                    top_books[i] = rating\n",
    "                    \n",
    "    # Return top books\n",
    "    return books.loc[list(top_books.keys())][:n_recs]"
   ]
  },
  {
   "cell_type": "code",
   "execution_count": 66,
   "metadata": {},
   "outputs": [],
   "source": [
    "def hybrid_recommendations(user_id, user_prefs, ratings, books, n=5):\n",
    "\n",
    "    user_ratings = ratings[ratings['User-ID'] == user_id]\n",
    "    \n",
    "    if len(user_ratings) >= 10:\n",
    "       cf_recs = collab_recommendations(user_id, ratings, books, n//2)\n",
    "       cb_recs = content_based_recommendations(user_prefs, books, n//2)  \n",
    "       return pd.concat([cf_recs, cb_recs]).head(n)\n",
    "       \n",
    "    elif len(user_ratings) >= 5: \n",
    "       # Put more weight on collaborative filtering\n",
    "       cf_recs = collab_recommendations(user_id, ratings, books, n*2//3)  \n",
    "       cb_recs = content_based_recommendations(user_prefs, books, n//3)\n",
    "       return pd.concat([cf_recs, cb_recs]).head(n)\n",
    "       \n",
    "    else:\n",
    "       # Only content-based filtering\n",
    "       return content_based_recommendations(user_prefs, books, n)"
   ]
  },
  {
   "cell_type": "code",
   "execution_count": 67,
   "metadata": {},
   "outputs": [],
   "source": [
    "def evaluate_cf(model_predictions, actual_ratings):\n",
    "    \n",
    "    # Calculate RMSE\n",
    "    mse = mean_squared_error(actual_ratings, model_predictions)  \n",
    "    rmse = np.sqrt(mse)\n",
    "    \n",
    "    print(f'Collaborative Filtering RMSE: {rmse:.3f}')\n"
   ]
  },
  {
   "cell_type": "code",
   "execution_count": 68,
   "metadata": {},
   "outputs": [
    {
     "name": "stdout",
     "output_type": "stream",
     "text": [
      "         ISBN                                         Book-Title  \\\n",
      "0  0671721038                       The New Hugo Winners, Vol. 2   \n",
      "1  0446670626                I, Robot:The Illustrated Screenplay   \n",
      "2  0385177259  Foundation's Edge (Foundation Novels (Hardcover))   \n",
      "3  0380699176             100 Great Fantasy Short, Short Stories   \n",
      "4  0345309014  Second Foundation (Foundation Novels (Paperback))   \n",
      "\n",
      "    Book-Author  Year-Of-Publication                           Publisher  \n",
      "0  Isaac Asimov                 1991                                Baen  \n",
      "1  Isaac Asimov                 1994                        Warner Books  \n",
      "2  Isaac Asimov                 1982               Bantam Dell Pub Group  \n",
      "3  Isaac Asimov                 1987  Harper Mass Market Paperbacks (Mm)  \n",
      "4  Isaac Asimov                 1983                    Ballantine Books  \n"
     ]
    }
   ],
   "source": [
    "# Example usage\n",
    "user_id = 12345  # Replace with a user ID\n",
    "user_preferences = {\n",
    "    \"favorite_authors\": [\"J.K. Rowling\", \"Isaac Asimov\"],\n",
    "    \"favorite_books\": [\"Harry Potter and the Sorcerer's Stone\"]\n",
    "}\n",
    "recommended_books = hybrid_recommendations(user_id, user_preferences, ratings, books)\n",
    "print(recommended_books)"
   ]
  },
  {
   "cell_type": "markdown",
   "metadata": {},
   "source": []
  }
 ],
 "metadata": {
  "kernelspec": {
   "display_name": "Python 3 (ipykernel)",
   "language": "python",
   "name": "python3"
  },
  "language_info": {
   "codemirror_mode": {
    "name": "ipython",
    "version": 3
   },
   "file_extension": ".py",
   "mimetype": "text/x-python",
   "name": "python",
   "nbconvert_exporter": "python",
   "pygments_lexer": "ipython3",
   "version": "3.11.5"
  }
 },
 "nbformat": 4,
 "nbformat_minor": 2
}
