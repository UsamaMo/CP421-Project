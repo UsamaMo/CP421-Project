{
 "cells": [
  {
   "cell_type": "code",
   "execution_count": 10,
   "metadata": {},
   "outputs": [],
   "source": [
    "#This Entire Notebook will be used for all the code so make sure you have all the packages installed otherwise you wont be able to run this notebook"
   ]
  },
  {
   "cell_type": "code",
   "execution_count": 11,
   "metadata": {},
   "outputs": [],
   "source": [
    "#Import all the libraries\n",
    "import pandas as pd\n",
    "import numpy as np\n",
    "from sklearn.metrics import mean_squared_error\n",
    "from sklearn.decomposition import TruncatedSVD  \n",
    "from sklearn.model_selection import train_test_split\n",
    "from difflib import SequenceMatcher"
   ]
  },
  {
   "cell_type": "code",
   "execution_count": 12,
   "metadata": {},
   "outputs": [],
   "source": [
    "# Load the datasets\n",
    "books_path = '../Dataset/Books.csv'\n",
    "ratings_path = '../Dataset/Ratings.csv'\n",
    "users_path = '../Dataset/Users.csv'\n",
    "\n",
    "# Reading the files\n",
    "books = pd.read_csv(books_path, dtype={'Year-Of-Publication': object})\n",
    "ratings = pd.read_csv(ratings_path)\n",
    "users = pd.read_csv(users_path)\n"
   ]
  },
  {
   "cell_type": "code",
   "execution_count": 13,
   "metadata": {},
   "outputs": [],
   "source": [
    "# Preprocessing steps (as described earlier)\n",
    "\n",
    "# Preprocessing Books DataFrame\n",
    "books['Year-Of-Publication'] = pd.to_numeric(books['Year-Of-Publication'], errors='coerce')\n",
    "books['Year-Of-Publication'].fillna(0, inplace=True)\n",
    "books['Year-Of-Publication'] = books['Year-Of-Publication'].astype(int)\n",
    "books.drop(['Image-URL-S', 'Image-URL-M', 'Image-URL-L'], axis=1, inplace=True)\n",
    "\n",
    "# Preprocessing Ratings DataFrame\n",
    "ratings['Book-Rating'] = pd.to_numeric(ratings['Book-Rating'], errors='coerce')\n",
    "\n",
    "# Preprocessing Users DataFrame\n",
    "users['Age'] = pd.to_numeric(users['Age'], errors='coerce')\n",
    "users['Age'].fillna(users['Age'].median(), inplace=True)\n",
    "users['Age'] = users['Age'].astype(int)\n",
    "users['Age'] = users['Age'].clip(10, 100)"
   ]
  },
  {
   "cell_type": "code",
   "execution_count": 14,
   "metadata": {},
   "outputs": [],
   "source": [
    "def similarity_ratio(str1, str2):\n",
    "    return difflib.SequenceMatcher(None, str1, str2).ratio()\n"
   ]
  },
  {
   "cell_type": "code",
   "execution_count": 15,
   "metadata": {},
   "outputs": [],
   "source": [
    "def content_based_recommendations(user_preferences, books, n_recs=5):\n",
    "    \n",
    "    # Filter books by favorite authors \n",
    "    favorite_authors = user_preferences.get('favorite_authors', [])\n",
    "    auth_books = books[books['Book-Author'].isin(favorite_authors)]\n",
    "    \n",
    "    # Filter books similar to user's favorite books\n",
    "    favorite_books = user_preferences.get('favorite_books', [])\n",
    "    similar_books = []\n",
    "    for book in favorite_books:\n",
    "        similarities = books.apply(lambda x: similarity_ratio(x['Book-Title'], book), axis=1)\n",
    "        similar_book = books.loc[similarities.idxmax()] \n",
    "        similar_books.append(similar_book)\n",
    "        \n",
    "    # Combine the filtered data frames and return top books\n",
    "    recs = pd.concat([auth_books, pd.DataFrame(similar_books)], ignore_index=True) \n",
    "    return recs[:n_recs]"
   ]
  },
  {
   "cell_type": "code",
   "execution_count": 16,
   "metadata": {},
   "outputs": [],
   "source": [
    "def collab_recommendations(user_id, ratings, books, n_recs=5):\n",
    "\n",
    "    # Compute cosine similarity between users \n",
    "    user_ratings = ratings[ratings['User-ID'] == user_id]\n",
    "    other_ratings = ratings[ratings['User-ID'] != user_id]\n",
    "    user_book_matrix = pivot_ratings(user_ratings)\n",
    "    other_book_matrix = pivot_ratings(other_ratings)\n",
    "    similarities = cosine_similarity(user_book_matrix, other_book_matrix)\n",
    "    \n",
    "    # Find most similar users\n",
    "    similar_users = np.argsort(similarities)[-1:-6:-1]  \n",
    "    \n",
    "    # Get top book recommendations from similar users\n",
    "    top_books = {}\n",
    "    for user in similar_users:\n",
    "        other_user_books = other_book_matrix.iloc[user] \n",
    "        for i, rating in other_user_books.iteritems():\n",
    "            if i not in user_book_matrix.columns:\n",
    "                if i not in top_books or top_books[i] < rating:\n",
    "                    top_books[i] = rating\n",
    "                    \n",
    "    # Return top books\n",
    "    return books.loc[list(top_books.keys())][:n_recs]"
   ]
  },
  {
   "cell_type": "code",
   "execution_count": 17,
   "metadata": {},
   "outputs": [],
   "source": [
    "def hybrid_recommendations(user_id, user_prefs, ratings, books, n=5):\n",
    "\n",
    "    user_ratings = ratings[ratings['User-ID'] == user_id]\n",
    "    \n",
    "    if len(user_ratings) >= 10:\n",
    "       cf_recs = collab_recommendations(user_id, ratings, books, n//2)\n",
    "       cb_recs = content_based_recommendations(user_prefs, books, n//2)  \n",
    "       return pd.concat([cf_recs, cb_recs]).head(n)\n",
    "       \n",
    "    elif len(user_ratings) >= 5: \n",
    "       # Put more weight on collaborative filtering\n",
    "       cf_recs = collab_recommendations(user_id, ratings, books, n*2//3)  \n",
    "       cb_recs = content_based_recommendations(user_prefs, books, n//3)\n",
    "       return pd.concat([cf_recs, cb_recs]).head(n)\n",
    "       \n",
    "    else:\n",
    "       # Only content-based filtering\n",
    "       return content_based_recommendations(user_prefs, books, n)"
   ]
  },
  {
   "cell_type": "code",
   "execution_count": 18,
   "metadata": {},
   "outputs": [],
   "source": [
    "def evaluate_cf(model_predictions, actual_ratings):\n",
    "    \n",
    "    # Calculate RMSE\n",
    "    mse = mean_squared_error(actual_ratings, model_predictions)  \n",
    "    rmse = np.sqrt(mse)\n",
    "    \n",
    "    print(f'Collaborative Filtering RMSE: {rmse:.3f}')\n"
   ]
  },
  {
   "cell_type": "code",
   "execution_count": 19,
   "metadata": {},
   "outputs": [
    {
     "ename": "NameError",
     "evalue": "name 'pivot_ratings' is not defined",
     "output_type": "error",
     "traceback": [
      "\u001b[1;31m---------------------------------------------------------------------------\u001b[0m",
      "\u001b[1;31mNameError\u001b[0m                                 Traceback (most recent call last)",
      "\u001b[1;32mc:\\Users\\52871\\Desktop\\CP421-Project\\group11\\src\\main copy.ipynb Cell 10\u001b[0m line \u001b[0;36m2\n\u001b[0;32m      <a href='vscode-notebook-cell:/c%3A/Users/52871/Desktop/CP421-Project/group11/src/main%20copy.ipynb#X31sZmlsZQ%3D%3D?line=0'>1</a>\u001b[0m \u001b[39m# Generate 5 predictions for user 123\u001b[39;00m\n\u001b[1;32m----> <a href='vscode-notebook-cell:/c%3A/Users/52871/Desktop/CP421-Project/group11/src/main%20copy.ipynb#X31sZmlsZQ%3D%3D?line=1'>2</a>\u001b[0m predictions \u001b[39m=\u001b[39m collab_recommendations(\u001b[39m123\u001b[39m, ratings, books, \u001b[39m5\u001b[39m) \n\u001b[0;32m      <a href='vscode-notebook-cell:/c%3A/Users/52871/Desktop/CP421-Project/group11/src/main%20copy.ipynb#X31sZmlsZQ%3D%3D?line=3'>4</a>\u001b[0m \u001b[39m# Get actual ratings for those books by this user \u001b[39;00m\n\u001b[0;32m      <a href='vscode-notebook-cell:/c%3A/Users/52871/Desktop/CP421-Project/group11/src/main%20copy.ipynb#X31sZmlsZQ%3D%3D?line=4'>5</a>\u001b[0m user_123_ratings \u001b[39m=\u001b[39m ratings[ratings[\u001b[39m'\u001b[39m\u001b[39mUser-ID\u001b[39m\u001b[39m'\u001b[39m] \u001b[39m==\u001b[39m \u001b[39m123\u001b[39m]\n",
      "\u001b[1;32mc:\\Users\\52871\\Desktop\\CP421-Project\\group11\\src\\main copy.ipynb Cell 10\u001b[0m line \u001b[0;36m6\n\u001b[0;32m      <a href='vscode-notebook-cell:/c%3A/Users/52871/Desktop/CP421-Project/group11/src/main%20copy.ipynb#X31sZmlsZQ%3D%3D?line=3'>4</a>\u001b[0m user_ratings \u001b[39m=\u001b[39m ratings[ratings[\u001b[39m'\u001b[39m\u001b[39mUser-ID\u001b[39m\u001b[39m'\u001b[39m] \u001b[39m==\u001b[39m user_id]\n\u001b[0;32m      <a href='vscode-notebook-cell:/c%3A/Users/52871/Desktop/CP421-Project/group11/src/main%20copy.ipynb#X31sZmlsZQ%3D%3D?line=4'>5</a>\u001b[0m other_ratings \u001b[39m=\u001b[39m ratings[ratings[\u001b[39m'\u001b[39m\u001b[39mUser-ID\u001b[39m\u001b[39m'\u001b[39m] \u001b[39m!=\u001b[39m user_id]\n\u001b[1;32m----> <a href='vscode-notebook-cell:/c%3A/Users/52871/Desktop/CP421-Project/group11/src/main%20copy.ipynb#X31sZmlsZQ%3D%3D?line=5'>6</a>\u001b[0m user_book_matrix \u001b[39m=\u001b[39m pivot_ratings(user_ratings)\n\u001b[0;32m      <a href='vscode-notebook-cell:/c%3A/Users/52871/Desktop/CP421-Project/group11/src/main%20copy.ipynb#X31sZmlsZQ%3D%3D?line=6'>7</a>\u001b[0m other_book_matrix \u001b[39m=\u001b[39m pivot_ratings(other_ratings)\n\u001b[0;32m      <a href='vscode-notebook-cell:/c%3A/Users/52871/Desktop/CP421-Project/group11/src/main%20copy.ipynb#X31sZmlsZQ%3D%3D?line=7'>8</a>\u001b[0m similarities \u001b[39m=\u001b[39m cosine_similarity(user_book_matrix, other_book_matrix)\n",
      "\u001b[1;31mNameError\u001b[0m: name 'pivot_ratings' is not defined"
     ]
    }
   ],
   "source": [
    "# Generate 5 predictions for user 123\n",
    "predictions = collab_recommendations(123, ratings, books, 5) \n",
    "\n",
    "# Get actual ratings for those books by this user \n",
    "user_123_ratings = ratings[ratings['User-ID'] == 123]\n",
    "actual = list(user_123_ratings.iloc[:5]['Book-Rating'])\n",
    "predicted = [pred_rating for _, pred_rating in predictions]\n",
    "\n",
    "# Evaluate\n",
    "evaluate_cf(predicted, actual)"
   ]
  },
  {
   "cell_type": "markdown",
   "metadata": {},
   "source": []
  }
 ],
 "metadata": {
  "kernelspec": {
   "display_name": "Python 3 (ipykernel)",
   "language": "python",
   "name": "python3"
  },
  "language_info": {
   "codemirror_mode": {
    "name": "ipython",
    "version": 3
   },
   "file_extension": ".py",
   "mimetype": "text/x-python",
   "name": "python",
   "nbconvert_exporter": "python",
   "pygments_lexer": "ipython3",
   "version": "3.11.5"
  }
 },
 "nbformat": 4,
 "nbformat_minor": 2
}
