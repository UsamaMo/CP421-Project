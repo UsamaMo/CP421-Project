{
 "cells": [
  {
   "cell_type": "code",
   "execution_count": 1,
   "metadata": {},
   "outputs": [],
   "source": [
    "#This Entire Notebook will be used for all the code so make sure you have all the packages installed otherwise you wont be able to run this notebook"
   ]
  },
  {
   "cell_type": "code",
   "execution_count": 11,
   "metadata": {},
   "outputs": [],
   "source": [
    "#Import all the libraries\n",
    "import pandas as pd\n",
    "from sklearn.metrics import mean_squared_error\n",
    "from math import sqrt\n",
    "from surprise import Dataset, Reader\n",
    "from surprise import SVD, accuracy\n",
    "from surprise.model_selection import train_test_split"
   ]
  },
  {
   "cell_type": "code",
   "execution_count": 47,
   "metadata": {},
   "outputs": [],
   "source": [
    "def collabrative_evaluation(algorithm, test):\n",
    "    predictions = algorithm.test(test)\n",
    "    RMSE_prediction = accuracy.rmse(predictions, verbose=False)\n",
    "    print(\"RMSE Predictions = %f\" % RMSE_prediction)\n",
    "    \n",
    "def content_evaluation():\n",
    "    user_preferences = {\n",
    "    \"favorite_authors\": [\"Agatha Christie\", \"Stephen King\"],\n",
    "    \"favorite_books\": [\"Murder on the Orient Express\"]\n",
    "    }\n",
    "    recommended_books = content_based_recommendations(user_preferences)\n",
    "    recommended_books = hybrid_recommendations(12345, user_preferences)\n",
    "    print(recommended_books)\n",
    "    "
   ]
  },
  {
   "cell_type": "code",
   "execution_count": 21,
   "metadata": {},
   "outputs": [],
   "source": [
    "# Load the datasets\n",
    "books_path = '../Dataset/Books.csv'\n",
    "ratings_path = '../Dataset/Ratings.csv'\n",
    "users_path = '../Dataset/Users.csv'\n",
    "\n",
    "# Reading the files\n",
    "books = pd.read_csv(books_path, dtype={'Year-Of-Publication': object})\n",
    "ratings = pd.read_csv(ratings_path)\n",
    "users = pd.read_csv(users_path)\n"
   ]
  },
  {
   "cell_type": "code",
   "execution_count": 22,
   "metadata": {},
   "outputs": [],
   "source": [
    "# Preprocessing steps (as described earlier)\n",
    "\n",
    "# Preprocessing Books DataFrame\n",
    "books['Year-Of-Publication'] = pd.to_numeric(books['Year-Of-Publication'], errors='coerce')\n",
    "books['Year-Of-Publication'].fillna(0, inplace=True)\n",
    "books['Year-Of-Publication'] = books['Year-Of-Publication'].astype(int)\n",
    "books.drop(['Image-URL-S', 'Image-URL-M', 'Image-URL-L'], axis=1, inplace=True)\n",
    "\n",
    "# Preprocessing Ratings DataFrame\n",
    "ratings['Book-Rating'] = pd.to_numeric(ratings['Book-Rating'], errors='coerce')\n",
    "\n",
    "# Preprocessing Users DataFrame\n",
    "users['Age'] = pd.to_numeric(users['Age'], errors='coerce')\n",
    "users['Age'].fillna(users['Age'].median(), inplace=True)\n",
    "users['Age'] = users['Age'].astype(int)\n",
    "users['Age'] = users['Age'].clip(10, 100)"
   ]
  },
  {
   "cell_type": "code",
   "execution_count": 33,
   "metadata": {},
   "outputs": [
    {
     "name": "stdout",
     "output_type": "stream",
     "text": [
      "RMSE Predictions = 3.498624\n"
     ]
    }
   ],
   "source": [
    "# Collaborative Filtering Model\n",
    "reader = Reader(rating_scale=(1, 10))  # Adjust the scale according to your dataset\n",
    "data = Dataset.load_from_df(ratings[['User-ID', 'ISBN', 'Book-Rating']], reader)\n",
    "trainset, testset = train_test_split(data, test_size=0.25)\n",
    "model = SVD()\n",
    "model.fit(trainset)\n",
    "collabrative_evaluation(model, testset)"
   ]
  },
  {
   "cell_type": "code",
   "execution_count": 53,
   "metadata": {},
   "outputs": [],
   "source": [
    "# Content-Based Recommendation Function\n",
    "def content_based_recommendations(user_preferences, n_books=5):\n",
    "    filtered_books = books.copy()\n",
    "\n",
    "    # Extract preferences from the user_preferences dictionary\n",
    "    favorite_authors = user_preferences.get('favorite_authors', [])\n",
    "    favorite_books = user_preferences.get('favorite_books', [])\n",
    "\n",
    "    # Filter by favorite authors if provided\n",
    "    if favorite_authors:\n",
    "        filtered_books = filtered_books[filtered_books['Book-Author'].isin(favorite_authors)]\n",
    "        print(filtered_books.head())\n",
    "    \n",
    "    # Filter by similarity to favorite books if provided\n",
    "    if favorite_books:\n",
    "        # For simplicity, filtering by titles. \n",
    "        filtered_books = filtered_books[filtered_books['Book-Title'].isin(favorite_books)]\n",
    "\n",
    "    # Recommend the top N books based on this filtering\n",
    "    return filtered_books.head(n_books)"
   ]
  },
  {
   "cell_type": "code",
   "execution_count": 9,
   "metadata": {},
   "outputs": [],
   "source": [
    "# Hybrid Recommendation Function\n",
    "def hybrid_recommendations(user_id, user_preferences, n_books=5):\n",
    "    user_ratings = ratings[ratings['User-ID'] == user_id]\n",
    "    \n",
    "    # Check if the user has rated enough books\n",
    "    if len(user_ratings) < 5:  # Threshold can be adjusted\n",
    "        return content_based_recommendations(user_preferences, n_books)\n",
    "    else:\n",
    "        # Use collaborative filtering\n",
    "        # Generate recommendations based on the model\n",
    "        user_recommendations = []\n",
    "        for isbn in books['ISBN']:\n",
    "            user_recommendations.append((isbn, model.predict(user_id, isbn).est))\n",
    "\n",
    "        # Sort and return the top recommendations\n",
    "        user_recommendations.sort(key=lambda x: x[1], reverse=True)\n",
    "        top_books_isbn = [isbn for isbn, _ in user_recommendations[:n_books]]\n",
    "        return books[books['ISBN'].isin(top_books_isbn)]\n"
   ]
  },
  {
   "cell_type": "code",
   "execution_count": 54,
   "metadata": {},
   "outputs": [
    {
     "ename": "AttributeError",
     "evalue": "'list' object has no attribute 'head'",
     "output_type": "error",
     "traceback": [
      "\u001b[1;31m---------------------------------------------------------------------------\u001b[0m",
      "\u001b[1;31mAttributeError\u001b[0m                            Traceback (most recent call last)",
      "\u001b[1;32mc:\\Code\\CP421FinalProject\\CP421-Project\\group11\\src\\main.ipynb Cell 9\u001b[0m line \u001b[0;36m2\n\u001b[0;32m      <a href='vscode-notebook-cell:/c%3A/Code/CP421FinalProject/CP421-Project/group11/src/main.ipynb#X14sZmlsZQ%3D%3D?line=0'>1</a>\u001b[0m \u001b[39m#Testing of Content Based\u001b[39;00m\n\u001b[1;32m----> <a href='vscode-notebook-cell:/c%3A/Code/CP421FinalProject/CP421-Project/group11/src/main.ipynb#X14sZmlsZQ%3D%3D?line=1'>2</a>\u001b[0m content_evaluation()\n",
      "\u001b[1;32mc:\\Code\\CP421FinalProject\\CP421-Project\\group11\\src\\main.ipynb Cell 9\u001b[0m line \u001b[0;36m1\n\u001b[0;32m      <a href='vscode-notebook-cell:/c%3A/Code/CP421FinalProject/CP421-Project/group11/src/main.ipynb#X14sZmlsZQ%3D%3D?line=5'>6</a>\u001b[0m \u001b[39mdef\u001b[39;00m \u001b[39mcontent_evaluation\u001b[39m():\n\u001b[0;32m      <a href='vscode-notebook-cell:/c%3A/Code/CP421FinalProject/CP421-Project/group11/src/main.ipynb#X14sZmlsZQ%3D%3D?line=6'>7</a>\u001b[0m     user_preferences \u001b[39m=\u001b[39m {\n\u001b[0;32m      <a href='vscode-notebook-cell:/c%3A/Code/CP421FinalProject/CP421-Project/group11/src/main.ipynb#X14sZmlsZQ%3D%3D?line=7'>8</a>\u001b[0m     \u001b[39m\"\u001b[39m\u001b[39mfavorite_authors\u001b[39m\u001b[39m\"\u001b[39m: [\u001b[39m\"\u001b[39m\u001b[39mAgatha Christie\u001b[39m\u001b[39m\"\u001b[39m, \u001b[39m\"\u001b[39m\u001b[39mStephen King\u001b[39m\u001b[39m\"\u001b[39m],\n\u001b[0;32m      <a href='vscode-notebook-cell:/c%3A/Code/CP421FinalProject/CP421-Project/group11/src/main.ipynb#X14sZmlsZQ%3D%3D?line=8'>9</a>\u001b[0m     \u001b[39m\"\u001b[39m\u001b[39mfavorite_books\u001b[39m\u001b[39m\"\u001b[39m: [\u001b[39m\"\u001b[39m\u001b[39mMurder on the Orient Express\u001b[39m\u001b[39m\"\u001b[39m]\n\u001b[0;32m     <a href='vscode-notebook-cell:/c%3A/Code/CP421FinalProject/CP421-Project/group11/src/main.ipynb#X14sZmlsZQ%3D%3D?line=9'>10</a>\u001b[0m     }\n\u001b[1;32m---> <a href='vscode-notebook-cell:/c%3A/Code/CP421FinalProject/CP421-Project/group11/src/main.ipynb#X14sZmlsZQ%3D%3D?line=10'>11</a>\u001b[0m     recommended_books \u001b[39m=\u001b[39m content_based_recommendations(user_preferences)\n\u001b[0;32m     <a href='vscode-notebook-cell:/c%3A/Code/CP421FinalProject/CP421-Project/group11/src/main.ipynb#X14sZmlsZQ%3D%3D?line=11'>12</a>\u001b[0m     recommended_books \u001b[39m=\u001b[39m hybrid_recommendations(\u001b[39m12345\u001b[39m, user_preferences)\n\u001b[0;32m     <a href='vscode-notebook-cell:/c%3A/Code/CP421FinalProject/CP421-Project/group11/src/main.ipynb#X14sZmlsZQ%3D%3D?line=12'>13</a>\u001b[0m     \u001b[39mprint\u001b[39m(recommended_books)\n",
      "\u001b[1;32mc:\\Code\\CP421FinalProject\\CP421-Project\\group11\\src\\main.ipynb Cell 9\u001b[0m line \u001b[0;36m1\n\u001b[0;32m     <a href='vscode-notebook-cell:/c%3A/Code/CP421FinalProject/CP421-Project/group11/src/main.ipynb#X14sZmlsZQ%3D%3D?line=9'>10</a>\u001b[0m \u001b[39mif\u001b[39;00m favorite_authors:\n\u001b[0;32m     <a href='vscode-notebook-cell:/c%3A/Code/CP421FinalProject/CP421-Project/group11/src/main.ipynb#X14sZmlsZQ%3D%3D?line=10'>11</a>\u001b[0m     filtered_books \u001b[39m=\u001b[39m filtered_books[filtered_books[\u001b[39m'\u001b[39m\u001b[39mBook-Author\u001b[39m\u001b[39m'\u001b[39m]\u001b[39m.\u001b[39misin(favorite_authors)]\n\u001b[1;32m---> <a href='vscode-notebook-cell:/c%3A/Code/CP421FinalProject/CP421-Project/group11/src/main.ipynb#X14sZmlsZQ%3D%3D?line=11'>12</a>\u001b[0m     \u001b[39mprint\u001b[39m(favorite_books\u001b[39m.\u001b[39mhead())\n\u001b[0;32m     <a href='vscode-notebook-cell:/c%3A/Code/CP421FinalProject/CP421-Project/group11/src/main.ipynb#X14sZmlsZQ%3D%3D?line=13'>14</a>\u001b[0m \u001b[39m# Filter by similarity to favorite books if provided\u001b[39;00m\n\u001b[0;32m     <a href='vscode-notebook-cell:/c%3A/Code/CP421FinalProject/CP421-Project/group11/src/main.ipynb#X14sZmlsZQ%3D%3D?line=14'>15</a>\u001b[0m \u001b[39mif\u001b[39;00m favorite_books:\n\u001b[0;32m     <a href='vscode-notebook-cell:/c%3A/Code/CP421FinalProject/CP421-Project/group11/src/main.ipynb#X14sZmlsZQ%3D%3D?line=15'>16</a>\u001b[0m     \u001b[39m# For simplicity, filtering by titles. \u001b[39;00m\n",
      "\u001b[1;31mAttributeError\u001b[0m: 'list' object has no attribute 'head'"
     ]
    }
   ],
   "source": [
    "#Testing of Content Based\n",
    "content_evaluation()"
   ]
  },
  {
   "cell_type": "code",
   "execution_count": 52,
   "metadata": {},
   "outputs": [
    {
     "ename": "AttributeError",
     "evalue": "'list' object has no attribute 'head'",
     "output_type": "error",
     "traceback": [
      "\u001b[1;31m---------------------------------------------------------------------------\u001b[0m",
      "\u001b[1;31mAttributeError\u001b[0m                            Traceback (most recent call last)",
      "\u001b[1;32mc:\\Code\\CP421FinalProject\\CP421-Project\\group11\\src\\main.ipynb Cell 10\u001b[0m line \u001b[0;36m7\n\u001b[0;32m      <a href='vscode-notebook-cell:/c%3A/Code/CP421FinalProject/CP421-Project/group11/src/main.ipynb#X10sZmlsZQ%3D%3D?line=1'>2</a>\u001b[0m user_id \u001b[39m=\u001b[39m \u001b[39m12345\u001b[39m  \u001b[39m# Replace with a user ID\u001b[39;00m\n\u001b[0;32m      <a href='vscode-notebook-cell:/c%3A/Code/CP421FinalProject/CP421-Project/group11/src/main.ipynb#X10sZmlsZQ%3D%3D?line=2'>3</a>\u001b[0m user_preferences \u001b[39m=\u001b[39m {\n\u001b[0;32m      <a href='vscode-notebook-cell:/c%3A/Code/CP421FinalProject/CP421-Project/group11/src/main.ipynb#X10sZmlsZQ%3D%3D?line=3'>4</a>\u001b[0m     \u001b[39m\"\u001b[39m\u001b[39mfavorite_authors\u001b[39m\u001b[39m\"\u001b[39m: [\u001b[39m\"\u001b[39m\u001b[39mJ.K. Rowling\u001b[39m\u001b[39m\"\u001b[39m, \u001b[39m\"\u001b[39m\u001b[39mIsaac Asimov\u001b[39m\u001b[39m\"\u001b[39m],\n\u001b[0;32m      <a href='vscode-notebook-cell:/c%3A/Code/CP421FinalProject/CP421-Project/group11/src/main.ipynb#X10sZmlsZQ%3D%3D?line=4'>5</a>\u001b[0m     \u001b[39m\"\u001b[39m\u001b[39mfavorite_books\u001b[39m\u001b[39m\"\u001b[39m: [\u001b[39m\"\u001b[39m\u001b[39mHarry Potter and the Sorcerer\u001b[39m\u001b[39m'\u001b[39m\u001b[39ms Stone\u001b[39m\u001b[39m\"\u001b[39m]\n\u001b[0;32m      <a href='vscode-notebook-cell:/c%3A/Code/CP421FinalProject/CP421-Project/group11/src/main.ipynb#X10sZmlsZQ%3D%3D?line=5'>6</a>\u001b[0m }\n\u001b[1;32m----> <a href='vscode-notebook-cell:/c%3A/Code/CP421FinalProject/CP421-Project/group11/src/main.ipynb#X10sZmlsZQ%3D%3D?line=6'>7</a>\u001b[0m recommended_books \u001b[39m=\u001b[39m hybrid_recommendations(user_id, user_preferences)\n\u001b[0;32m      <a href='vscode-notebook-cell:/c%3A/Code/CP421FinalProject/CP421-Project/group11/src/main.ipynb#X10sZmlsZQ%3D%3D?line=7'>8</a>\u001b[0m \u001b[39mprint\u001b[39m(recommended_books)\n",
      "\u001b[1;32mc:\\Code\\CP421FinalProject\\CP421-Project\\group11\\src\\main.ipynb Cell 10\u001b[0m line \u001b[0;36m7\n\u001b[0;32m      <a href='vscode-notebook-cell:/c%3A/Code/CP421FinalProject/CP421-Project/group11/src/main.ipynb#X10sZmlsZQ%3D%3D?line=4'>5</a>\u001b[0m \u001b[39m# Check if the user has rated enough books\u001b[39;00m\n\u001b[0;32m      <a href='vscode-notebook-cell:/c%3A/Code/CP421FinalProject/CP421-Project/group11/src/main.ipynb#X10sZmlsZQ%3D%3D?line=5'>6</a>\u001b[0m \u001b[39mif\u001b[39;00m \u001b[39mlen\u001b[39m(user_ratings) \u001b[39m<\u001b[39m \u001b[39m5\u001b[39m:  \u001b[39m# Threshold can be adjusted\u001b[39;00m\n\u001b[1;32m----> <a href='vscode-notebook-cell:/c%3A/Code/CP421FinalProject/CP421-Project/group11/src/main.ipynb#X10sZmlsZQ%3D%3D?line=6'>7</a>\u001b[0m     \u001b[39mreturn\u001b[39;00m content_based_recommendations(user_preferences, n_books)\n\u001b[0;32m      <a href='vscode-notebook-cell:/c%3A/Code/CP421FinalProject/CP421-Project/group11/src/main.ipynb#X10sZmlsZQ%3D%3D?line=7'>8</a>\u001b[0m \u001b[39melse\u001b[39;00m:\n\u001b[0;32m      <a href='vscode-notebook-cell:/c%3A/Code/CP421FinalProject/CP421-Project/group11/src/main.ipynb#X10sZmlsZQ%3D%3D?line=8'>9</a>\u001b[0m     \u001b[39m# Use collaborative filtering\u001b[39;00m\n\u001b[0;32m     <a href='vscode-notebook-cell:/c%3A/Code/CP421FinalProject/CP421-Project/group11/src/main.ipynb#X10sZmlsZQ%3D%3D?line=9'>10</a>\u001b[0m     \u001b[39m# Generate recommendations based on the model\u001b[39;00m\n\u001b[0;32m     <a href='vscode-notebook-cell:/c%3A/Code/CP421FinalProject/CP421-Project/group11/src/main.ipynb#X10sZmlsZQ%3D%3D?line=10'>11</a>\u001b[0m     user_recommendations \u001b[39m=\u001b[39m []\n",
      "\u001b[1;32mc:\\Code\\CP421FinalProject\\CP421-Project\\group11\\src\\main.ipynb Cell 10\u001b[0m line \u001b[0;36m1\n\u001b[0;32m     <a href='vscode-notebook-cell:/c%3A/Code/CP421FinalProject/CP421-Project/group11/src/main.ipynb#X10sZmlsZQ%3D%3D?line=9'>10</a>\u001b[0m \u001b[39mif\u001b[39;00m favorite_authors:\n\u001b[0;32m     <a href='vscode-notebook-cell:/c%3A/Code/CP421FinalProject/CP421-Project/group11/src/main.ipynb#X10sZmlsZQ%3D%3D?line=10'>11</a>\u001b[0m     filtered_books \u001b[39m=\u001b[39m filtered_books[filtered_books[\u001b[39m'\u001b[39m\u001b[39mBook-Author\u001b[39m\u001b[39m'\u001b[39m]\u001b[39m.\u001b[39misin(favorite_authors)]\n\u001b[1;32m---> <a href='vscode-notebook-cell:/c%3A/Code/CP421FinalProject/CP421-Project/group11/src/main.ipynb#X10sZmlsZQ%3D%3D?line=11'>12</a>\u001b[0m     \u001b[39mprint\u001b[39m(favorite_books\u001b[39m.\u001b[39mhead())\n\u001b[0;32m     <a href='vscode-notebook-cell:/c%3A/Code/CP421FinalProject/CP421-Project/group11/src/main.ipynb#X10sZmlsZQ%3D%3D?line=13'>14</a>\u001b[0m \u001b[39m# Filter by similarity to favorite books if provided\u001b[39;00m\n\u001b[0;32m     <a href='vscode-notebook-cell:/c%3A/Code/CP421FinalProject/CP421-Project/group11/src/main.ipynb#X10sZmlsZQ%3D%3D?line=14'>15</a>\u001b[0m \u001b[39mif\u001b[39;00m favorite_books:\n\u001b[0;32m     <a href='vscode-notebook-cell:/c%3A/Code/CP421FinalProject/CP421-Project/group11/src/main.ipynb#X10sZmlsZQ%3D%3D?line=15'>16</a>\u001b[0m     \u001b[39m# For simplicity, filtering by titles. \u001b[39;00m\n",
      "\u001b[1;31mAttributeError\u001b[0m: 'list' object has no attribute 'head'"
     ]
    }
   ],
   "source": [
    "# Example usage\n",
    "user_id = 12345  # Replace with a user ID\n",
    "user_preferences = {\n",
    "    \"favorite_authors\": [\"J.K. Rowling\", \"Isaac Asimov\"],\n",
    "    \"favorite_books\": [\"Harry Potter and the Sorcerer's Stone\"]\n",
    "}\n",
    "recommended_books = hybrid_recommendations(user_id, user_preferences)\n",
    "print(recommended_books)"
   ]
  },
  {
   "cell_type": "markdown",
   "metadata": {},
   "source": []
  }
 ],
 "metadata": {
  "kernelspec": {
   "display_name": "Python 3 (ipykernel)",
   "language": "python",
   "name": "python3"
  },
  "language_info": {
   "codemirror_mode": {
    "name": "ipython",
    "version": 3
   },
   "file_extension": ".py",
   "mimetype": "text/x-python",
   "name": "python",
   "nbconvert_exporter": "python",
   "pygments_lexer": "ipython3",
   "version": "3.11.5"
  }
 },
 "nbformat": 4,
 "nbformat_minor": 2
}
