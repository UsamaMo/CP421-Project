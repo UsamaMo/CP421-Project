{
 "cells": [
  {
   "cell_type": "code",
   "execution_count": null,
   "metadata": {},
   "outputs": [],
   "source": [
    "#This Entire Notebook will be used for all the code so make sure you have all the packages installed otherwise you wont be able to run this notebook"
   ]
  },
  {
   "cell_type": "code",
   "execution_count": null,
   "metadata": {},
   "outputs": [],
   "source": [
    "#Import all the libraries\n",
    "import pandas as pd\n",
    "from surprise import Dataset, Reader\n",
    "from surprise import SVD, accuracy\n",
    "from surprise.model_selection import train_test_split"
   ]
  },
  {
   "cell_type": "code",
   "execution_count": null,
   "metadata": {},
   "outputs": [],
   "source": [
    "# Load the datasets\n",
    "books_path = '../Dataset/Books.csv'\n",
    "ratings_path = '../Dataset/Ratings.csv'\n",
    "users_path = '../Dataset/Users.csv'\n",
    "\n",
    "# Reading the files\n",
    "books = pd.read_csv(books_path, dtype={'Year-Of-Publication': object})\n",
    "ratings = pd.read_csv(ratings_path)\n",
    "users = pd.read_csv(users_path)\n"
   ]
  },
  {
   "cell_type": "code",
   "execution_count": null,
   "metadata": {},
   "outputs": [],
   "source": [
    "# Preprocessing steps (as described earlier)\n",
    "\n",
    "# Preprocessing Books DataFrame\n",
    "books['Year-Of-Publication'] = pd.to_numeric(books['Year-Of-Publication'], errors='coerce')\n",
    "books['Year-Of-Publication'].fillna(0, inplace=True)\n",
    "books['Year-Of-Publication'] = books['Year-Of-Publication'].astype(int)\n",
    "books.drop(['Image-URL-S', 'Image-URL-M', 'Image-URL-L'], axis=1, inplace=True)\n",
    "\n",
    "# Preprocessing Ratings DataFrame\n",
    "ratings['Book-Rating'] = pd.to_numeric(ratings['Book-Rating'], errors='coerce')\n",
    "\n",
    "# Preprocessing Users DataFrame\n",
    "users['Age'] = pd.to_numeric(users['Age'], errors='coerce')\n",
    "users['Age'].fillna(users['Age'].median(), inplace=True)\n",
    "users['Age'] = users['Age'].astype(int)\n",
    "users['Age'] = users['Age'].clip(10, 100)"
   ]
  },
  {
   "cell_type": "code",
   "execution_count": null,
   "metadata": {},
   "outputs": [],
   "source": [
    "# Collaborative Filtering Model\n",
    "reader = Reader(rating_scale=(1, 10))  # Adjust the scale according to your dataset\n",
    "data = Dataset.load_from_df(ratings[['User-ID', 'ISBN', 'Book-Rating']], reader)\n",
    "trainset, testset = train_test_split(data, test_size=0.25)\n",
    "model = SVD()\n",
    "model.fit(trainset)"
   ]
  },
  {
   "cell_type": "code",
   "execution_count": null,
   "metadata": {},
   "outputs": [],
   "source": [
    "# Content-Based Recommendation Function\n",
    "def content_based_recommendations(user_preferences, n_books=5):\n",
    "    filtered_books = books.copy()\n",
    "\n",
    "    # Extract preferences from the user_preferences dictionary\n",
    "    favorite_authors = user_preferences.get('favorite_authors', [])\n",
    "    favorite_books = user_preferences.get('favorite_books', [])\n",
    "\n",
    "    # Filter by favorite authors if provided\n",
    "    if favorite_authors:\n",
    "        filtered_books = filtered_books[filtered_books['Book-Author'].isin(favorite_authors)]\n",
    "\n",
    "    # Filter by similarity to favorite books if provided\n",
    "    if favorite_books:\n",
    "        # For simplicity, filtering by titles. \n",
    "        filtered_books = filtered_books[filtered_books['Book-Title'].isin(favorite_books)]\n",
    "\n",
    "    # Recommend the top N books based on this filtering\n",
    "    return filtered_books.head(n_books)"
   ]
  },
  {
   "cell_type": "code",
   "execution_count": null,
   "metadata": {},
   "outputs": [],
   "source": [
    "# Hybrid Recommendation Function\n",
    "def hybrid_recommendations(user_id, user_preferences, n_books=5):\n",
    "    user_ratings = ratings[ratings['User-ID'] == user_id]\n",
    "    \n",
    "    # Check if the user has rated enough books\n",
    "    if len(user_ratings) < 5:  # Threshold can be adjusted\n",
    "        return content_based_recommendations(user_preferences, n_books)\n",
    "    else:\n",
    "        # Use collaborative filtering\n",
    "        # Generate recommendations based on the model\n",
    "        user_recommendations = []\n",
    "        for isbn in books['ISBN']:\n",
    "            user_recommendations.append((isbn, model.predict(user_id, isbn).est))\n",
    "\n",
    "        # Sort and return the top recommendations\n",
    "        user_recommendations.sort(key=lambda x: x[1], reverse=True)\n",
    "        top_books_isbn = [isbn for isbn, _ in user_recommendations[:n_books]]\n",
    "        return books[books['ISBN'].isin(top_books_isbn)]\n"
   ]
  },
  {
   "cell_type": "code",
   "execution_count": null,
   "metadata": {},
   "outputs": [],
   "source": [
    "# Example usage\n",
    "user_id = 12345  # Replace with a user ID\n",
    "user_preferences = {\n",
    "    \"favorite_authors\": [\"J.K. Rowling\", \"Isaac Asimov\"],\n",
    "    \"favorite_books\": [\"Harry Potter and the Sorcerer's Stone\"]\n",
    "}\n",
    "recommended_books = hybrid_recommendations(user_id, user_preferences)\n",
    "print(recommended_books)"
   ]
  },
  {
   "cell_type": "markdown",
   "metadata": {},
   "source": []
  }
 ],
 "metadata": {
  "kernelspec": {
   "display_name": "Python 3 (ipykernel)",
   "language": "python",
   "name": "python3"
  },
  "language_info": {
   "codemirror_mode": {
    "name": "ipython",
    "version": 3
   },
   "file_extension": ".py",
   "mimetype": "text/x-python",
   "name": "python",
   "nbconvert_exporter": "python",
   "pygments_lexer": "ipython3",
   "version": "3.12.0"
  }
 },
 "nbformat": 4,
 "nbformat_minor": 2
}
