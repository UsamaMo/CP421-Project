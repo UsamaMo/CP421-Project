{
 "cells": [
  {
   "cell_type": "code",
   "execution_count": 1,
   "metadata": {},
   "outputs": [],
   "source": [
    "#This Entire Notebook will be used for all the code so make sure you have all the packages installed otherwise you wont be able to run this notebook"
   ]
  },
  {
   "cell_type": "code",
   "execution_count": 21,
   "metadata": {},
   "outputs": [],
   "source": [
    "#Import all the libraries\n",
    "import pandas as pd\n",
    "from sklearn.metrics import mean_squared_error\n",
    "from math import sqrt\n",
    "from surprise import Dataset, Reader\n",
    "from surprise import SVD, accuracy\n",
    "from surprise.model_selection import train_test_split\n",
    "from difflib import SequenceMatcher"
   ]
  },
  {
   "cell_type": "code",
   "execution_count": 6,
   "metadata": {},
   "outputs": [],
   "source": [
    "def collabrative_evaluation(algorithm, test):\n",
    "    predictions = algorithm.test(test)\n",
    "    RMSE_prediction = accuracy.rmse(predictions, verbose=False)\n",
    "    print(\"RMSE Predictions = %f\" % RMSE_prediction)\n",
    "    \n",
    "def content_evaluation():\n",
    "    user_preferences = {\n",
    "    \"favorite_authors\": [\"Agatha Christie\", \"Stephen King\"],\n",
    "    \"favorite_books\": [\"Murder on the Orient Express\"]\n",
    "    }\n",
    "    recommended_books = content_based_recommendations(user_preferences)\n",
    "    print(recommended_books)\n",
    "    "
   ]
  },
  {
   "cell_type": "code",
   "execution_count": 7,
   "metadata": {},
   "outputs": [],
   "source": [
    "# Load the datasets\n",
    "books_path = '../Dataset/Books.csv'\n",
    "ratings_path = '../Dataset/Ratings.csv'\n",
    "users_path = '../Dataset/Users.csv'\n",
    "\n",
    "# Reading the files\n",
    "books = pd.read_csv(books_path, dtype={'Year-Of-Publication': object})\n",
    "ratings = pd.read_csv(ratings_path)\n",
    "users = pd.read_csv(users_path)\n"
   ]
  },
  {
   "cell_type": "code",
   "execution_count": 8,
   "metadata": {},
   "outputs": [],
   "source": [
    "# Preprocessing steps (as described earlier)\n",
    "\n",
    "# Preprocessing Books DataFrame\n",
    "books['Year-Of-Publication'] = pd.to_numeric(books['Year-Of-Publication'], errors='coerce')\n",
    "books['Year-Of-Publication'].fillna(0, inplace=True)\n",
    "books['Year-Of-Publication'] = books['Year-Of-Publication'].astype(int)\n",
    "books.drop(['Image-URL-S', 'Image-URL-M', 'Image-URL-L'], axis=1, inplace=True)\n",
    "\n",
    "# Preprocessing Ratings DataFrame\n",
    "ratings['Book-Rating'] = pd.to_numeric(ratings['Book-Rating'], errors='coerce')\n",
    "\n",
    "# Preprocessing Users DataFrame\n",
    "users['Age'] = pd.to_numeric(users['Age'], errors='coerce')\n",
    "users['Age'].fillna(users['Age'].median(), inplace=True)\n",
    "users['Age'] = users['Age'].astype(int)\n",
    "users['Age'] = users['Age'].clip(10, 100)"
   ]
  },
  {
   "cell_type": "code",
   "execution_count": 9,
   "metadata": {},
   "outputs": [
    {
     "name": "stdout",
     "output_type": "stream",
     "text": [
      "RMSE Predictions = 3.494095\n"
     ]
    }
   ],
   "source": [
    "# Collaborative Filtering Model\n",
    "reader = Reader(rating_scale=(1, 10))  # Adjust the scale according to your dataset\n",
    "data = Dataset.load_from_df(ratings[['User-ID', 'ISBN', 'Book-Rating']], reader)\n",
    "trainset, testset = train_test_split(data, test_size=0.25)\n",
    "model = SVD()\n",
    "model.fit(trainset)\n",
    "collabrative_evaluation(model, testset)"
   ]
  },
  {
   "cell_type": "code",
   "execution_count": 23,
   "metadata": {},
   "outputs": [],
   "source": [
    "def similarity_ratio(str1, str2):\n",
    "    return SequenceMatcher(None, str1.lower(), str2.lower()).ratio()"
   ]
  },
  {
   "cell_type": "code",
   "execution_count": 56,
   "metadata": {},
   "outputs": [],
   "source": [
    "# Content-Based Recommendation Function\n",
    "def content_based_recommendations(user_preferences, n_books=5):\n",
    "    filtered_books = books.copy()\n",
    "    filtered_books.reindex()\n",
    "\n",
    "    # Extract preferences from the user_preferences dictionary\n",
    "    favorite_authors = user_preferences.get('favorite_authors', [])\n",
    "    favorite_books = user_preferences.get('favorite_books', [])\n",
    "    recommendations = pd.DataFrame()\n",
    "    author_recommendation = pd.DataFrame()\n",
    "    # Filter by favorite authors if provided\n",
    "    if favorite_authors:\n",
    "        author_recommendation = filtered_books[filtered_books['Book-Author'].isin(favorite_authors)]\n",
    "    \n",
    "    # Filter by similarity to favorite books if provided\n",
    "    if favorite_books:\n",
    "        # For simplicity, filtering by titles.\n",
    "        filtered_books['Similarity']= filtered_books.apply(lambda row: similarity_ratio(row[\"Book-Title\"], favorite_books[0]), axis=1)\n",
    "        filtered_books = filtered_books.sort_values(by='Similarity', ascending=False)\n",
    "        recommendations = pd.concat([recommendations, filtered_books.drop('Similarity', axis=1).head(2)],ignore_index=True)\n",
    "        recommendations = pd.concat([recommendations,author_recommendations], ignore_index=True)\n",
    "        #filtered_books = filtered_books[filtered_books['Book-Title'].isin(favorite_books)]\n",
    "\n",
    "    # Recommend the top N books based on this filtering\n",
    "    return recommendations.head(n_books)"
   ]
  },
  {
   "cell_type": "code",
   "execution_count": 11,
   "metadata": {},
   "outputs": [],
   "source": [
    "# Hybrid Recommendation Function\n",
    "def hybrid_recommendations(user_id, user_preferences, n_books=5):\n",
    "    user_ratings = ratings[ratings['User-ID'] == user_id]\n",
    "    \n",
    "    # Check if the user has rated enough books\n",
    "    if len(user_ratings) < 5:  # Threshold can be adjusted\n",
    "        return content_based_recommendations(user_preferences, n_books)\n",
    "    else:\n",
    "        # Use collaborative filtering\n",
    "        # Generate recommendations based on the model\n",
    "        user_recommendations = []\n",
    "        for isbn in books['ISBN']:\n",
    "            user_recommendations.append((isbn, model.predict(user_id, isbn).est))\n",
    "\n",
    "        # Sort and return the top recommendations\n",
    "        user_recommendations.sort(key=lambda x: x[1], reverse=True)\n",
    "        top_books_isbn = [isbn for isbn, _ in user_recommendations[:n_books]]\n",
    "        return books[books['ISBN'].isin(top_books_isbn)]\n"
   ]
  },
  {
   "cell_type": "code",
   "execution_count": 57,
   "metadata": {},
   "outputs": [
    {
     "ename": "KeyError",
     "evalue": "\"['Similarity'] not found in axis\"",
     "output_type": "error",
     "traceback": [
      "\u001b[1;31m---------------------------------------------------------------------------\u001b[0m",
      "\u001b[1;31mKeyError\u001b[0m                                  Traceback (most recent call last)",
      "\u001b[1;32mc:\\Code\\CP421FinalProject\\CP421-Project\\group11\\src\\main.ipynb Cell 10\u001b[0m line \u001b[0;36m2\n\u001b[0;32m      <a href='vscode-notebook-cell:/c%3A/Code/CP421FinalProject/CP421-Project/group11/src/main.ipynb#X11sZmlsZQ%3D%3D?line=0'>1</a>\u001b[0m \u001b[39m#Testing of Content Based\u001b[39;00m\n\u001b[1;32m----> <a href='vscode-notebook-cell:/c%3A/Code/CP421FinalProject/CP421-Project/group11/src/main.ipynb#X11sZmlsZQ%3D%3D?line=1'>2</a>\u001b[0m content_evaluation()\n",
      "\u001b[1;32mc:\\Code\\CP421FinalProject\\CP421-Project\\group11\\src\\main.ipynb Cell 10\u001b[0m line \u001b[0;36m1\n\u001b[0;32m      <a href='vscode-notebook-cell:/c%3A/Code/CP421FinalProject/CP421-Project/group11/src/main.ipynb#X11sZmlsZQ%3D%3D?line=5'>6</a>\u001b[0m \u001b[39mdef\u001b[39;00m \u001b[39mcontent_evaluation\u001b[39m():\n\u001b[0;32m      <a href='vscode-notebook-cell:/c%3A/Code/CP421FinalProject/CP421-Project/group11/src/main.ipynb#X11sZmlsZQ%3D%3D?line=6'>7</a>\u001b[0m     user_preferences \u001b[39m=\u001b[39m {\n\u001b[0;32m      <a href='vscode-notebook-cell:/c%3A/Code/CP421FinalProject/CP421-Project/group11/src/main.ipynb#X11sZmlsZQ%3D%3D?line=7'>8</a>\u001b[0m     \u001b[39m\"\u001b[39m\u001b[39mfavorite_authors\u001b[39m\u001b[39m\"\u001b[39m: [\u001b[39m\"\u001b[39m\u001b[39mAgatha Christie\u001b[39m\u001b[39m\"\u001b[39m, \u001b[39m\"\u001b[39m\u001b[39mStephen King\u001b[39m\u001b[39m\"\u001b[39m],\n\u001b[0;32m      <a href='vscode-notebook-cell:/c%3A/Code/CP421FinalProject/CP421-Project/group11/src/main.ipynb#X11sZmlsZQ%3D%3D?line=8'>9</a>\u001b[0m     \u001b[39m\"\u001b[39m\u001b[39mfavorite_books\u001b[39m\u001b[39m\"\u001b[39m: [\u001b[39m\"\u001b[39m\u001b[39mMurder on the Orient Express\u001b[39m\u001b[39m\"\u001b[39m]\n\u001b[0;32m     <a href='vscode-notebook-cell:/c%3A/Code/CP421FinalProject/CP421-Project/group11/src/main.ipynb#X11sZmlsZQ%3D%3D?line=9'>10</a>\u001b[0m     }\n\u001b[1;32m---> <a href='vscode-notebook-cell:/c%3A/Code/CP421FinalProject/CP421-Project/group11/src/main.ipynb#X11sZmlsZQ%3D%3D?line=10'>11</a>\u001b[0m     recommended_books \u001b[39m=\u001b[39m content_based_recommendations(user_preferences)\n\u001b[0;32m     <a href='vscode-notebook-cell:/c%3A/Code/CP421FinalProject/CP421-Project/group11/src/main.ipynb#X11sZmlsZQ%3D%3D?line=11'>12</a>\u001b[0m     \u001b[39mprint\u001b[39m(recommended_books)\n",
      "\u001b[1;32mc:\\Code\\CP421FinalProject\\CP421-Project\\group11\\src\\main.ipynb Cell 10\u001b[0m line \u001b[0;36m2\n\u001b[0;32m     <a href='vscode-notebook-cell:/c%3A/Code/CP421FinalProject/CP421-Project/group11/src/main.ipynb#X11sZmlsZQ%3D%3D?line=17'>18</a>\u001b[0m     filtered_books[\u001b[39m'\u001b[39m\u001b[39mSimilarity\u001b[39m\u001b[39m'\u001b[39m]\u001b[39m=\u001b[39m filtered_books\u001b[39m.\u001b[39mapply(\u001b[39mlambda\u001b[39;00m row: similarity_ratio(row[\u001b[39m\"\u001b[39m\u001b[39mBook-Title\u001b[39m\u001b[39m\"\u001b[39m], favorite_books[\u001b[39m0\u001b[39m]), axis\u001b[39m=\u001b[39m\u001b[39m1\u001b[39m)\n\u001b[0;32m     <a href='vscode-notebook-cell:/c%3A/Code/CP421FinalProject/CP421-Project/group11/src/main.ipynb#X11sZmlsZQ%3D%3D?line=18'>19</a>\u001b[0m     filtered_books \u001b[39m=\u001b[39m filtered_books\u001b[39m.\u001b[39msort_values(by\u001b[39m=\u001b[39m\u001b[39m'\u001b[39m\u001b[39mSimilarity\u001b[39m\u001b[39m'\u001b[39m, ascending\u001b[39m=\u001b[39m\u001b[39mFalse\u001b[39;00m)\n\u001b[1;32m---> <a href='vscode-notebook-cell:/c%3A/Code/CP421FinalProject/CP421-Project/group11/src/main.ipynb#X11sZmlsZQ%3D%3D?line=19'>20</a>\u001b[0m     recommendations \u001b[39m=\u001b[39m pd\u001b[39m.\u001b[39mconcat([recommendations, filtered_books\u001b[39m.\u001b[39mdrop(\u001b[39m'\u001b[39m\u001b[39mSimilarity\u001b[39m\u001b[39m'\u001b[39m)\u001b[39m.\u001b[39mhead(\u001b[39m2\u001b[39m)],ignore_index\u001b[39m=\u001b[39m\u001b[39mTrue\u001b[39;00m)\n\u001b[0;32m     <a href='vscode-notebook-cell:/c%3A/Code/CP421FinalProject/CP421-Project/group11/src/main.ipynb#X11sZmlsZQ%3D%3D?line=20'>21</a>\u001b[0m     recommendations \u001b[39m=\u001b[39m pd\u001b[39m.\u001b[39mconcat([recommendations,author_recommendations], ignore_index\u001b[39m=\u001b[39m\u001b[39mTrue\u001b[39;00m)\n\u001b[0;32m     <a href='vscode-notebook-cell:/c%3A/Code/CP421FinalProject/CP421-Project/group11/src/main.ipynb#X11sZmlsZQ%3D%3D?line=21'>22</a>\u001b[0m     \u001b[39m#filtered_books = filtered_books[filtered_books['Book-Title'].isin(favorite_books)]\u001b[39;00m\n\u001b[0;32m     <a href='vscode-notebook-cell:/c%3A/Code/CP421FinalProject/CP421-Project/group11/src/main.ipynb#X11sZmlsZQ%3D%3D?line=22'>23</a>\u001b[0m \n\u001b[0;32m     <a href='vscode-notebook-cell:/c%3A/Code/CP421FinalProject/CP421-Project/group11/src/main.ipynb#X11sZmlsZQ%3D%3D?line=23'>24</a>\u001b[0m \u001b[39m# Recommend the top N books based on this filtering\u001b[39;00m\n",
      "File \u001b[1;32mc:\\Users\\NathanBoshart\\anaconda3\\Lib\\site-packages\\pandas\\core\\frame.py:5258\u001b[0m, in \u001b[0;36mDataFrame.drop\u001b[1;34m(self, labels, axis, index, columns, level, inplace, errors)\u001b[0m\n\u001b[0;32m   5110\u001b[0m \u001b[39mdef\u001b[39;00m \u001b[39mdrop\u001b[39m(\n\u001b[0;32m   5111\u001b[0m     \u001b[39mself\u001b[39m,\n\u001b[0;32m   5112\u001b[0m     labels: IndexLabel \u001b[39m=\u001b[39m \u001b[39mNone\u001b[39;00m,\n\u001b[1;32m   (...)\u001b[0m\n\u001b[0;32m   5119\u001b[0m     errors: IgnoreRaise \u001b[39m=\u001b[39m \u001b[39m\"\u001b[39m\u001b[39mraise\u001b[39m\u001b[39m\"\u001b[39m,\n\u001b[0;32m   5120\u001b[0m ) \u001b[39m-\u001b[39m\u001b[39m>\u001b[39m DataFrame \u001b[39m|\u001b[39m \u001b[39mNone\u001b[39;00m:\n\u001b[0;32m   5121\u001b[0m \u001b[39m    \u001b[39m\u001b[39m\"\"\"\u001b[39;00m\n\u001b[0;32m   5122\u001b[0m \u001b[39m    Drop specified labels from rows or columns.\u001b[39;00m\n\u001b[0;32m   5123\u001b[0m \n\u001b[1;32m   (...)\u001b[0m\n\u001b[0;32m   5256\u001b[0m \u001b[39m            weight  1.0     0.8\u001b[39;00m\n\u001b[0;32m   5257\u001b[0m \u001b[39m    \"\"\"\u001b[39;00m\n\u001b[1;32m-> 5258\u001b[0m     \u001b[39mreturn\u001b[39;00m \u001b[39msuper\u001b[39m()\u001b[39m.\u001b[39mdrop(\n\u001b[0;32m   5259\u001b[0m         labels\u001b[39m=\u001b[39mlabels,\n\u001b[0;32m   5260\u001b[0m         axis\u001b[39m=\u001b[39maxis,\n\u001b[0;32m   5261\u001b[0m         index\u001b[39m=\u001b[39mindex,\n\u001b[0;32m   5262\u001b[0m         columns\u001b[39m=\u001b[39mcolumns,\n\u001b[0;32m   5263\u001b[0m         level\u001b[39m=\u001b[39mlevel,\n\u001b[0;32m   5264\u001b[0m         inplace\u001b[39m=\u001b[39minplace,\n\u001b[0;32m   5265\u001b[0m         errors\u001b[39m=\u001b[39merrors,\n\u001b[0;32m   5266\u001b[0m     )\n",
      "File \u001b[1;32mc:\\Users\\NathanBoshart\\anaconda3\\Lib\\site-packages\\pandas\\core\\generic.py:4549\u001b[0m, in \u001b[0;36mNDFrame.drop\u001b[1;34m(self, labels, axis, index, columns, level, inplace, errors)\u001b[0m\n\u001b[0;32m   4547\u001b[0m \u001b[39mfor\u001b[39;00m axis, labels \u001b[39min\u001b[39;00m axes\u001b[39m.\u001b[39mitems():\n\u001b[0;32m   4548\u001b[0m     \u001b[39mif\u001b[39;00m labels \u001b[39mis\u001b[39;00m \u001b[39mnot\u001b[39;00m \u001b[39mNone\u001b[39;00m:\n\u001b[1;32m-> 4549\u001b[0m         obj \u001b[39m=\u001b[39m obj\u001b[39m.\u001b[39m_drop_axis(labels, axis, level\u001b[39m=\u001b[39mlevel, errors\u001b[39m=\u001b[39merrors)\n\u001b[0;32m   4551\u001b[0m \u001b[39mif\u001b[39;00m inplace:\n\u001b[0;32m   4552\u001b[0m     \u001b[39mself\u001b[39m\u001b[39m.\u001b[39m_update_inplace(obj)\n",
      "File \u001b[1;32mc:\\Users\\NathanBoshart\\anaconda3\\Lib\\site-packages\\pandas\\core\\generic.py:4591\u001b[0m, in \u001b[0;36mNDFrame._drop_axis\u001b[1;34m(self, labels, axis, level, errors, only_slice)\u001b[0m\n\u001b[0;32m   4589\u001b[0m         new_axis \u001b[39m=\u001b[39m axis\u001b[39m.\u001b[39mdrop(labels, level\u001b[39m=\u001b[39mlevel, errors\u001b[39m=\u001b[39merrors)\n\u001b[0;32m   4590\u001b[0m     \u001b[39melse\u001b[39;00m:\n\u001b[1;32m-> 4591\u001b[0m         new_axis \u001b[39m=\u001b[39m axis\u001b[39m.\u001b[39mdrop(labels, errors\u001b[39m=\u001b[39merrors)\n\u001b[0;32m   4592\u001b[0m     indexer \u001b[39m=\u001b[39m axis\u001b[39m.\u001b[39mget_indexer(new_axis)\n\u001b[0;32m   4594\u001b[0m \u001b[39m# Case for non-unique axis\u001b[39;00m\n\u001b[0;32m   4595\u001b[0m \u001b[39melse\u001b[39;00m:\n",
      "File \u001b[1;32mc:\\Users\\NathanBoshart\\anaconda3\\Lib\\site-packages\\pandas\\core\\indexes\\base.py:6699\u001b[0m, in \u001b[0;36mIndex.drop\u001b[1;34m(self, labels, errors)\u001b[0m\n\u001b[0;32m   6697\u001b[0m \u001b[39mif\u001b[39;00m mask\u001b[39m.\u001b[39many():\n\u001b[0;32m   6698\u001b[0m     \u001b[39mif\u001b[39;00m errors \u001b[39m!=\u001b[39m \u001b[39m\"\u001b[39m\u001b[39mignore\u001b[39m\u001b[39m\"\u001b[39m:\n\u001b[1;32m-> 6699\u001b[0m         \u001b[39mraise\u001b[39;00m \u001b[39mKeyError\u001b[39;00m(\u001b[39mf\u001b[39m\u001b[39m\"\u001b[39m\u001b[39m{\u001b[39;00m\u001b[39mlist\u001b[39m(labels[mask])\u001b[39m}\u001b[39;00m\u001b[39m not found in axis\u001b[39m\u001b[39m\"\u001b[39m)\n\u001b[0;32m   6700\u001b[0m     indexer \u001b[39m=\u001b[39m indexer[\u001b[39m~\u001b[39mmask]\n\u001b[0;32m   6701\u001b[0m \u001b[39mreturn\u001b[39;00m \u001b[39mself\u001b[39m\u001b[39m.\u001b[39mdelete(indexer)\n",
      "\u001b[1;31mKeyError\u001b[0m: \"['Similarity'] not found in axis\""
     ]
    }
   ],
   "source": [
    "#Testing of Content Based\n",
    "content_evaluation()"
   ]
  },
  {
   "cell_type": "code",
   "execution_count": 20,
   "metadata": {},
   "outputs": [
    {
     "name": "stdout",
     "output_type": "stream",
     "text": [
      "              ISBN                             Book-Title   Book-Author  \\\n",
      "259611  0939173344  Harry Potter and the Sorcerer's Stone  J.K. Rowling   \n",
      "\n",
      "        Year-Of-Publication                     Publisher  \n",
      "259611                 1999  National Braille Press, Inc.  \n"
     ]
    }
   ],
   "source": [
    "# Example usage\n",
    "user_id = 12345  # Replace with a user ID\n",
    "user_preferences = {\n",
    "    \"favorite_authors\": [\"J.K. Rowling\", \"Isaac Asimov\"],\n",
    "    \"favorite_books\": [\"Harry Potter and the Sorcerer's Stone\"]\n",
    "}\n",
    "recommended_books = hybrid_recommendations(user_id, user_preferences)\n",
    "print(recommended_books)"
   ]
  },
  {
   "cell_type": "markdown",
   "metadata": {},
   "source": []
  }
 ],
 "metadata": {
  "kernelspec": {
   "display_name": "Python 3 (ipykernel)",
   "language": "python",
   "name": "python3"
  },
  "language_info": {
   "codemirror_mode": {
    "name": "ipython",
    "version": 3
   },
   "file_extension": ".py",
   "mimetype": "text/x-python",
   "name": "python",
   "nbconvert_exporter": "python",
   "pygments_lexer": "ipython3",
   "version": "3.11.5"
  }
 },
 "nbformat": 4,
 "nbformat_minor": 2
}
