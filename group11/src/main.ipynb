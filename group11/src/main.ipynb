{
 "cells": [
  {
   "cell_type": "code",
   "execution_count": 1,
   "metadata": {},
   "outputs": [],
   "source": [
    "#This Entire Notebook will be used for all the code so make sure you have all the packages installed otherwise you wont be able to run this notebook"
   ]
  },
  {
   "cell_type": "code",
   "execution_count": 21,
   "metadata": {},
   "outputs": [],
   "source": [
    "#Import all the libraries\n",
    "import pandas as pd\n",
    "from sklearn.metrics import mean_squared_error\n",
    "from math import sqrt\n",
    "from surprise import Dataset, Reader\n",
    "from surprise import SVD, accuracy\n",
    "from surprise.model_selection import train_test_split\n",
    "from difflib import SequenceMatcher"
   ]
  },
  {
   "cell_type": "code",
   "execution_count": 81,
   "metadata": {},
   "outputs": [],
   "source": [
    "def collabrative_evaluation(algorithm, test):\n",
    "    predictions = algorithm.test(test)\n",
    "    RMSE_prediction = accuracy.rmse(predictions, verbose=False)\n",
    "    print(\"RMSE Predictions = %f\" % RMSE_prediction)\n",
    "    \n",
    "def content_evaluation(books):\n",
    "    user_preferences = {\n",
    "    \"favorite_authors\": [\"Agatha Christie\", \"Stephen King\"],\n",
    "    \"favorite_books\": [\"The Old Man and the Sea\"]\n",
    "    }\n",
    "    filtered_books = books.copy()\n",
    "    filtered_books['Similarity']= filtered_books.apply(lambda row: similarity_ratio(row[\"Book-Title\"].lower(), user_preferences.get(\"favorite_books\", [])[0].lower()), axis=1)\n",
    "    filtered_books = filtered_books.sort_values(by='Similarity', ascending=False)\n",
    "    filtered_books = filtered_books[filtered_books['Similarity'] != 1.0]\n",
    "    mean_similarity = filtered_books['Similarity'].head(5).mean()\n",
    "    print(\"Mean Similarity = %f\" % mean_similarity)\n",
    "    "
   ]
  },
  {
   "cell_type": "code",
   "execution_count": 7,
   "metadata": {},
   "outputs": [],
   "source": [
    "# Load the datasets\n",
    "books_path = '../Dataset/Books.csv'\n",
    "ratings_path = '../Dataset/Ratings.csv'\n",
    "users_path = '../Dataset/Users.csv'\n",
    "\n",
    "# Reading the files\n",
    "books = pd.read_csv(books_path, dtype={'Year-Of-Publication': object})\n",
    "ratings = pd.read_csv(ratings_path)\n",
    "users = pd.read_csv(users_path)\n"
   ]
  },
  {
   "cell_type": "code",
   "execution_count": 8,
   "metadata": {},
   "outputs": [],
   "source": [
    "# Preprocessing steps (as described earlier)\n",
    "\n",
    "# Preprocessing Books DataFrame\n",
    "books['Year-Of-Publication'] = pd.to_numeric(books['Year-Of-Publication'], errors='coerce')\n",
    "books['Year-Of-Publication'].fillna(0, inplace=True)\n",
    "books['Year-Of-Publication'] = books['Year-Of-Publication'].astype(int)\n",
    "books.drop(['Image-URL-S', 'Image-URL-M', 'Image-URL-L'], axis=1, inplace=True)\n",
    "\n",
    "# Preprocessing Ratings DataFrame\n",
    "ratings['Book-Rating'] = pd.to_numeric(ratings['Book-Rating'], errors='coerce')\n",
    "\n",
    "# Preprocessing Users DataFrame\n",
    "users['Age'] = pd.to_numeric(users['Age'], errors='coerce')\n",
    "users['Age'].fillna(users['Age'].median(), inplace=True)\n",
    "users['Age'] = users['Age'].astype(int)\n",
    "users['Age'] = users['Age'].clip(10, 100)"
   ]
  },
  {
   "cell_type": "code",
   "execution_count": 9,
   "metadata": {},
   "outputs": [
    {
     "name": "stdout",
     "output_type": "stream",
     "text": [
      "RMSE Predictions = 3.494095\n"
     ]
    }
   ],
   "source": [
    "# Collaborative Filtering Model\n",
    "reader = Reader(rating_scale=(1, 10))  # Adjust the scale according to your dataset\n",
    "data = Dataset.load_from_df(ratings[['User-ID', 'ISBN', 'Book-Rating']], reader)\n",
    "trainset, testset = train_test_split(data, test_size=0.25)\n",
    "model = SVD()\n",
    "model.fit(trainset)\n",
    "collabrative_evaluation(model, testset)"
   ]
  },
  {
   "cell_type": "code",
   "execution_count": 74,
   "metadata": {},
   "outputs": [],
   "source": [
    "def similarity_ratio(str1, str2):\n",
    "    return SequenceMatcher(None, str1, str2).ratio()"
   ]
  },
  {
   "cell_type": "code",
   "execution_count": 72,
   "metadata": {},
   "outputs": [],
   "source": [
    "# Content-Based Recommendation Function\n",
    "def content_based_recommendations(user_preferences, n_books=5):\n",
    "    filtered_books = books.copy()\n",
    "    filtered_books.reindex()\n",
    "\n",
    "    # Extract preferences from the user_preferences dictionary\n",
    "    favorite_authors = user_preferences.get('favorite_authors', [])\n",
    "    favorite_books = user_preferences.get('favorite_books', [])\n",
    "    recommendations = pd.DataFrame()\n",
    "    author_recommendation = pd.DataFrame()\n",
    "    # Filter by favorite authors if provided\n",
    "    if favorite_authors:\n",
    "        author_recommendation = filtered_books[filtered_books['Book-Author'].isin(favorite_authors)]\n",
    "    \n",
    "    # Filter by similarity to favorite books if provided\n",
    "    if favorite_books:\n",
    "        # For simplicity, filtering by titles.\n",
    "        filtered_books['Similarity']= filtered_books.apply(lambda row: similarity_ratio(row[\"Book-Title\"].lower(), favorite_books[0].lower()), axis=1)\n",
    "        filtered_books = filtered_books.sort_values(by='Similarity', ascending=False)\n",
    "        filtered_books = filtered_books[filtered_books['Similarity'] != 1.0]\n",
    "        recommendations = pd.concat([recommendations, filtered_books.drop('Similarity', axis=1).head(3)],ignore_index=True)\n",
    "        recommendations = pd.concat([recommendations,author_recommendation], ignore_index=True)\n",
    "        #filtered_books = filtered_books[filtered_books['Book-Title'].isin(favorite_books)]\n",
    "\n",
    "    # Recommend the top N books based on this filtering\n",
    "    return recommendations.head(n_books)"
   ]
  },
  {
   "cell_type": "code",
   "execution_count": 11,
   "metadata": {},
   "outputs": [],
   "source": [
    "# Hybrid Recommendation Function\n",
    "def hybrid_recommendations(user_id, user_preferences, n_books=5):\n",
    "    user_ratings = ratings[ratings['User-ID'] == user_id]\n",
    "    \n",
    "    # Check if the user has rated enough books\n",
    "    if len(user_ratings) < 5:  # Threshold can be adjusted\n",
    "        return content_based_recommendations(user_preferences, n_books)\n",
    "    else:\n",
    "        # Use collaborative filtering\n",
    "        # Generate recommendations based on the model\n",
    "        user_recommendations = []\n",
    "        for isbn in books['ISBN']:\n",
    "            user_recommendations.append((isbn, model.predict(user_id, isbn).est))\n",
    "\n",
    "        # Sort and return the top recommendations\n",
    "        user_recommendations.sort(key=lambda x: x[1], reverse=True)\n",
    "        top_books_isbn = [isbn for isbn, _ in user_recommendations[:n_books]]\n",
    "        return books[books['ISBN'].isin(top_books_isbn)]\n"
   ]
  },
  {
   "cell_type": "code",
   "execution_count": 82,
   "metadata": {},
   "outputs": [
    {
     "name": "stdout",
     "output_type": "stream",
     "text": [
      "Mean Similarity = 0.895635\n"
     ]
    }
   ],
   "source": [
    "#Testing of Content Based\n",
    "content_evaluation(books)"
   ]
  },
  {
   "cell_type": "code",
   "execution_count": 20,
   "metadata": {},
   "outputs": [
    {
     "name": "stdout",
     "output_type": "stream",
     "text": [
      "              ISBN                             Book-Title   Book-Author  \\\n",
      "259611  0939173344  Harry Potter and the Sorcerer's Stone  J.K. Rowling   \n",
      "\n",
      "        Year-Of-Publication                     Publisher  \n",
      "259611                 1999  National Braille Press, Inc.  \n"
     ]
    }
   ],
   "source": [
    "# Example usage\n",
    "user_id = 12345  # Replace with a user ID\n",
    "user_preferences = {\n",
    "    \"favorite_authors\": [\"J.K. Rowling\", \"Isaac Asimov\"],\n",
    "    \"favorite_books\": [\"Harry Potter and the Sorcerer's Stone\"]\n",
    "}\n",
    "recommended_books = hybrid_recommendations(user_id, user_preferences)\n",
    "print(recommended_books)"
   ]
  },
  {
   "cell_type": "markdown",
   "metadata": {},
   "source": []
  }
 ],
 "metadata": {
  "kernelspec": {
   "display_name": "Python 3 (ipykernel)",
   "language": "python",
   "name": "python3"
  },
  "language_info": {
   "codemirror_mode": {
    "name": "ipython",
    "version": 3
   },
   "file_extension": ".py",
   "mimetype": "text/x-python",
   "name": "python",
   "nbconvert_exporter": "python",
   "pygments_lexer": "ipython3",
   "version": "3.11.5"
  }
 },
 "nbformat": 4,
 "nbformat_minor": 2
}
