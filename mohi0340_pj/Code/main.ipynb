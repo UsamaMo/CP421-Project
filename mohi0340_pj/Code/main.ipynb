{
 "cells": [
  {
   "cell_type": "code",
   "execution_count": null,
   "metadata": {},
   "outputs": [],
   "source": [
    "#so this is where we will do the coding of this project in this notebook\n",
    "# now we need to import the kaggle dataset\n"
   ]
  },
  {
   "cell_type": "code",
   "execution_count": 3,
   "metadata": {},
   "outputs": [],
   "source": [
    "#Import all the libraries\n",
    "import pandas as pd\n",
    "from surprise import Dataset, Reader\n",
    "from surprise import SVD, accuracy\n",
    "from surprise.model_selection import train_test_split"
   ]
  },
  {
   "cell_type": "code",
   "execution_count": 4,
   "metadata": {},
   "outputs": [
    {
     "name": "stdout",
     "output_type": "stream",
     "text": [
      "RMSE: 3.4990\n",
      "             ISBN                                         Book-Title  \\\n",
      "3028   1844262553                                               Free   \n",
      "11220  0615116426  Marching Through Culpeper : A Novel of Culpepe...   \n",
      "19642  0440222028                                           Simisola   \n",
      "27556  8445071416                                          El Hobbit   \n",
      "82880  3423071516                                  Der Kleine Hobbit   \n",
      "\n",
      "                 Book-Author  Year-Of-Publication           Publisher  \n",
      "3028            Paul Vincent                 2003  Upfront Publishing  \n",
      "11220  Virginia Beard Morton                 2000      Edgehill Books  \n",
      "19642           Ruth Rendell                 1996                Dell  \n",
      "27556       J. R. R. Tolkien                 1991           Minotauro  \n",
      "82880       J. R. R. Tolkien                 2002         Distribooks  \n"
     ]
    }
   ],
   "source": [
    "# Load the datasets\n",
    "books_path = 'Books.csv'\n",
    "ratings_path = 'Ratings.csv'\n",
    "users_path = 'Users.csv'\n",
    "\n",
    "# Reading the files\n",
    "books = pd.read_csv(books_path, dtype={'Year-Of-Publication': object})\n",
    "ratings = pd.read_csv(ratings_path)\n",
    "users = pd.read_csv(users_path)\n",
    "\n",
    "\n",
    "# Preprocessing steps (as described earlier)\n",
    "\n",
    "# Preprocessing Books DataFrame\n",
    "books['Year-Of-Publication'] = pd.to_numeric(books['Year-Of-Publication'], errors='coerce')\n",
    "books['Year-Of-Publication'].fillna(0, inplace=True)\n",
    "books['Year-Of-Publication'] = books['Year-Of-Publication'].astype(int)\n",
    "books.drop(['Image-URL-S', 'Image-URL-M', 'Image-URL-L'], axis=1, inplace=True)\n",
    "\n",
    "# Preprocessing Ratings DataFrame\n",
    "ratings['Book-Rating'] = pd.to_numeric(ratings['Book-Rating'], errors='coerce')\n",
    "\n",
    "# Preprocessing Users DataFrame\n",
    "users['Age'] = pd.to_numeric(users['Age'], errors='coerce')\n",
    "users['Age'].fillna(users['Age'].median(), inplace=True)\n",
    "users['Age'] = users['Age'].astype(int)\n",
    "users['Age'] = users['Age'].clip(10, 100)\n",
    "\n",
    "# Surprise requires that the data be in a specific format, with user IDs, item IDs, and ratings\n",
    "reader = Reader(rating_scale=(0, 10))  # Assuming rating scale is from 0 to 10\n",
    "data = Dataset.load_from_df(ratings[['User-ID', 'ISBN', 'Book-Rating']], reader)\n",
    "\n",
    "# Splitting the dataset into training and testing set\n",
    "trainset, testset = train_test_split(data, test_size=0.25)\n",
    "\n",
    "# Using SVD (Singular Value Decomposition)\n",
    "svd = SVD()\n",
    "\n",
    "# Train the algorithm on the trainset\n",
    "svd.fit(trainset)\n",
    "\n",
    "# Predict ratings for the testset\n",
    "predictions = svd.test(testset)\n",
    "\n",
    "# Calculate and print the accuracy\n",
    "accuracy.rmse(predictions)\n",
    "\n",
    "# Function to make book recommendations for a user\n",
    "def recommend_books(user_id, n_books=5):\n",
    "    # Check if user exists in the dataset\n",
    "    if user_id not in ratings['User-ID'].unique():\n",
    "        return \"User not found.\"\n",
    "\n",
    "    # Predict ratings for all books for this user\n",
    "    user_ratings = []\n",
    "    for isbn in books['ISBN']:\n",
    "        user_ratings.append((isbn, svd.predict(user_id, isbn).est))\n",
    "\n",
    "    # Sort the predictions based on estimated ratings\n",
    "    user_ratings.sort(key=lambda x: x[1], reverse=True)\n",
    "\n",
    "    # Return the top N book recommendations\n",
    "    top_books_isbn = [isbn for isbn, _ in user_ratings[:n_books]]\n",
    "    return books[books['ISBN'].isin(top_books_isbn)]\n",
    "\n",
    "# Example usage\n",
    "user_id = 276725  # Replace with an actual user ID from your dataset\n",
    "recommended_books = recommend_books(user_id)\n",
    "print(recommended_books)"
   ]
  }
 ],
 "metadata": {
  "kernelspec": {
   "display_name": "Python 3 (ipykernel)",
   "language": "python",
   "name": "python3"
  },
  "language_info": {
   "codemirror_mode": {
    "name": "ipython",
    "version": 3
   },
   "file_extension": ".py",
   "mimetype": "text/x-python",
   "name": "python",
   "nbconvert_exporter": "python",
   "pygments_lexer": "ipython3",
   "version": "3.11.5"
  }
 },
 "nbformat": 4,
 "nbformat_minor": 2
}
